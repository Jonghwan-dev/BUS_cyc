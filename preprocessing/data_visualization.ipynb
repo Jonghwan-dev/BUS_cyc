{
 "cells": [
  {
   "cell_type": "markdown",
   "metadata": {},
   "source": [
    "# 데이터 확인"
   ]
  },
  {
   "cell_type": "code",
   "execution_count": null,
   "metadata": {},
   "outputs": [],
   "source": [
    "from pathlib import Path\n",
    "from PIL import Image, ImageOps\n",
    "import matplotlib.pyplot as plt\n",
    "\n",
    "root = Path('./data/USenhanced23')\n",
    "hr_imgs = sorted((root/'HR').glob('*'))\n",
    "lr_imgs = sorted((root/'LR').glob('*'))\n",
    "print('HR 갯수:', len(hr_imgs), 'LR 갯수:', len(lr_imgs))\n",
    "img_hr = Image.open(hr_imgs[0])\n",
    "img_lr = Image.open(lr_imgs[0])\n",
    "fig, ax = plt.subplots(1,2, figsize=(8,4))\n",
    "ax[0].imshow(ImageOps.grayscale(img_lr), cmap='gray'); ax[0].set_title('LR'); ax[0].axis('off')\n",
    "ax[1].imshow(ImageOps.grayscale(img_hr), cmap='gray'); ax[1].set_title('HR'); ax[1].axis('off')\n",
    "plt.show()"
   ]
  }
 ],
 "metadata": {
  "kernelspec": {
   "display_name": "Python 3",
   "language": "python",
   "name": "python3"
  },
  "language_info": {
   "name": "python",
   "version": "3.10"
  }
 },
 "nbformat": 4,
 "nbformat_minor": 2
}
