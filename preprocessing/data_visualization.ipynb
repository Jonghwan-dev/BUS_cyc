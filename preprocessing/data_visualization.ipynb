{
 "cells": [
  {
   "cell_type": "markdown",
   "metadata": {},
   "source": [
    "# 데이터 확인"
   ]
  },
  {
   "cell_type": "code",
   "execution_count": 4,
   "metadata": {},
   "outputs": [
    {
     "name": "stdout",
     "output_type": "stream",
     "text": [
      "HR 갯수: 0 LR 갯수: 0\n"
     ]
    },
    {
     "ename": "IndexError",
     "evalue": "list index out of range",
     "output_type": "error",
     "traceback": [
      "\u001b[31m---------------------------------------------------------------------------\u001b[39m",
      "\u001b[31mIndexError\u001b[39m                                Traceback (most recent call last)",
      "\u001b[36mCell\u001b[39m\u001b[36m \u001b[39m\u001b[32mIn[4]\u001b[39m\u001b[32m, line 9\u001b[39m\n\u001b[32m      7\u001b[39m lr_imgs = \u001b[38;5;28msorted\u001b[39m((root/\u001b[33m'\u001b[39m\u001b[33mLR\u001b[39m\u001b[33m'\u001b[39m).glob(\u001b[33m'\u001b[39m\u001b[33m*\u001b[39m\u001b[33m'\u001b[39m))\n\u001b[32m      8\u001b[39m \u001b[38;5;28mprint\u001b[39m(\u001b[33m'\u001b[39m\u001b[33mHR 갯수:\u001b[39m\u001b[33m'\u001b[39m, \u001b[38;5;28mlen\u001b[39m(hr_imgs), \u001b[33m'\u001b[39m\u001b[33mLR 갯수:\u001b[39m\u001b[33m'\u001b[39m, \u001b[38;5;28mlen\u001b[39m(lr_imgs))\n\u001b[32m----> \u001b[39m\u001b[32m9\u001b[39m img_hr = Image.open(\u001b[43mhr_imgs\u001b[49m\u001b[43m[\u001b[49m\u001b[32;43m1\u001b[39;49m\u001b[43m]\u001b[49m)\n\u001b[32m     10\u001b[39m img_lr = Image.open(lr_imgs[\u001b[32m1\u001b[39m])\n\u001b[32m     11\u001b[39m fig, ax = plt.subplots(\u001b[32m1\u001b[39m,\u001b[32m2\u001b[39m, figsize=(\u001b[32m8\u001b[39m,\u001b[32m4\u001b[39m))\n",
      "\u001b[31mIndexError\u001b[39m: list index out of range"
     ]
    }
   ],
   "source": [
    "from pathlib import Path\n",
    "from PIL import Image, ImageOps\n",
    "import matplotlib.pyplot as plt\n",
    "\n",
    "root = Path('./data/USenhanced23')\n",
    "hr_imgs = sorted((root/'HR').glob('*'))\n",
    "lr_imgs = sorted((root/'LR').glob('*'))\n",
    "print('HR 갯수:', len(hr_imgs), 'LR 갯수:', len(lr_imgs))\n",
    "img_hr = Image.open(hr_imgs[1])\n",
    "img_lr = Image.open(lr_imgs[1])\n",
    "fig, ax = plt.subplots(1,2, figsize=(8,4))\n",
    "ax[0].imshow(ImageOps.grayscale(img_lr), cmap='gray'); ax[0].set_title('LR'); ax[0].axis('off')\n",
    "ax[1].imshow(ImageOps.grayscale(img_hr), cmap='gray'); ax[1].set_title('HR'); ax[1].axis('off')\n",
    "plt.show()"
   ]
  }
 ],
 "metadata": {
  "kernelspec": {
   "display_name": "base",
   "language": "python",
   "name": "python3"
  },
  "language_info": {
   "codemirror_mode": {
    "name": "ipython",
    "version": 3
   },
   "file_extension": ".py",
   "mimetype": "text/x-python",
   "name": "python",
   "nbconvert_exporter": "python",
   "pygments_lexer": "ipython3",
   "version": "3.13.0"
  }
 },
 "nbformat": 4,
 "nbformat_minor": 2
}
